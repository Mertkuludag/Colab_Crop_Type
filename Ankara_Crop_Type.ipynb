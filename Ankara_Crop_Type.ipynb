{
  "nbformat": 4,
  "nbformat_minor": 0,
  "metadata": {
    "colab": {
      "name": "Parsele_Gore_Maske.ipynb",
      "provenance": [],
      "collapsed_sections": [],
      "authorship_tag": "ABX9TyO0EuV40csf56q1ztqfszPA",
      "include_colab_link": true
    },
    "kernelspec": {
      "name": "python3",
      "display_name": "Python 3"
    },
    "language_info": {
      "name": "python"
    }
  },
  "cells": [
    {
      "cell_type": "markdown",
      "metadata": {
        "id": "view-in-github",
        "colab_type": "text"
      },
      "source": [
        "<a href=\"https://colab.research.google.com/github/Mertkuludag/Colab_Crop_Type/blob/main/Ankara_Crop_Type.ipynb\" target=\"_parent\"><img src=\"https://colab.research.google.com/assets/colab-badge.svg\" alt=\"Open In Colab\"/></a>"
      ]
    },
    {
      "cell_type": "markdown",
      "source": [
        "## Importlar"
      ],
      "metadata": {
        "id": "k37XYH2K7r5k"
      }
    },
    {
      "cell_type": "code",
      "execution_count": 1,
      "metadata": {
        "id": "0-PVbReb7NY4",
        "colab": {
          "base_uri": "https://localhost:8080/",
          "height": 1000
        },
        "outputId": "343cd24b-df46-490d-a3c5-ac8b134b1b81"
      },
      "outputs": [
        {
          "output_type": "stream",
          "name": "stdout",
          "text": [
            "Looking in indexes: https://pypi.org/simple, https://us-python.pkg.dev/colab-wheels/public/simple/\n",
            "Collecting geemap\n",
            "  Using cached geemap-0.13.7-py2.py3-none-any.whl (2.0 MB)\n",
            "Collecting folium>=0.11.0\n",
            "  Using cached folium-0.12.1.post1-py2.py3-none-any.whl (95 kB)\n",
            "Collecting python-box\n",
            "  Using cached python_box-6.0.2-cp37-cp37m-manylinux_2_17_x86_64.manylinux2014_x86_64.whl (3.0 MB)\n",
            "Collecting xyzservices\n",
            "  Using cached xyzservices-2022.4.0-py3-none-any.whl (36 kB)\n",
            "Collecting geojson\n",
            "  Using cached geojson-2.5.0-py2.py3-none-any.whl (14 kB)\n",
            "Collecting pycrs\n",
            "  Using cached PyCRS-1.0.2-py3-none-any.whl\n",
            "Requirement already satisfied: earthengine-api>=0.1.304 in /usr/local/lib/python3.7/dist-packages (from geemap) (0.1.310)\n",
            "Collecting ipyevents\n",
            "  Using cached ipyevents-2.0.1-py2.py3-none-any.whl (130 kB)\n",
            "Collecting geeadd>=0.5.1\n",
            "  Using cached geeadd-0.5.5-py3-none-any.whl (30 kB)\n",
            "Requirement already satisfied: numpy in /usr/local/lib/python3.7/dist-packages (from geemap) (1.21.6)\n",
            "Collecting mapclassify>=2.4.0\n",
            "  Using cached mapclassify-2.4.3-py3-none-any.whl (38 kB)\n",
            "Requirement already satisfied: pandas in /usr/local/lib/python3.7/dist-packages (from geemap) (1.3.5)\n",
            "Requirement already satisfied: gdown in /usr/local/lib/python3.7/dist-packages (from geemap) (4.4.0)\n",
            "Collecting bqplot\n",
            "  Using cached bqplot-0.12.33-py2.py3-none-any.whl (1.2 MB)\n",
            "Requirement already satisfied: matplotlib in /usr/local/lib/python3.7/dist-packages (from geemap) (3.2.2)\n",
            "Collecting colour\n",
            "  Using cached colour-0.1.5-py2.py3-none-any.whl (23 kB)\n",
            "Collecting whiteboxgui>=0.6.0\n",
            "  Using cached whiteboxgui-0.7.0-py2.py3-none-any.whl (99 kB)\n",
            "Collecting ee-extra>=0.0.10\n",
            "  Using cached ee_extra-0.0.13-py3-none-any.whl\n",
            "Collecting pyshp>=2.1.3\n",
            "  Using cached pyshp-2.3.0-py2.py3-none-any.whl (46 kB)\n",
            "Collecting geocoder\n",
            "  Using cached geocoder-1.38.1-py2.py3-none-any.whl (98 kB)\n",
            "Collecting ipytree\n",
            "  Using cached ipytree-0.2.1-py2.py3-none-any.whl (1.3 MB)\n",
            "Collecting jupyterlab>=3\n",
            "  Using cached jupyterlab-3.4.2-py3-none-any.whl (8.8 MB)\n",
            "Collecting sankee\n",
            "  Using cached sankee-0.0.7.tar.gz (29 kB)\n",
            "Collecting ffmpeg-python\n",
            "  Using cached ffmpeg_python-0.2.0-py3-none-any.whl (25 kB)\n",
            "Collecting ipyfilechooser>=0.6.0\n",
            "  Using cached ipyfilechooser-0.6.0-py3-none-any.whl (11 kB)\n",
            "Requirement already satisfied: pillow in /usr/local/lib/python3.7/dist-packages (from geemap) (7.1.2)\n",
            "Collecting ipyleaflet>=0.14.0\n",
            "  Using cached ipyleaflet-0.16.0-py2.py3-none-any.whl (3.3 MB)\n",
            "Requirement already satisfied: six in /usr/local/lib/python3.7/dist-packages (from earthengine-api>=0.1.304->geemap) (1.15.0)\n",
            "Requirement already satisfied: future in /usr/local/lib/python3.7/dist-packages (from earthengine-api>=0.1.304->geemap) (0.16.0)\n",
            "Requirement already satisfied: httplib2<1dev,>=0.9.2 in /usr/local/lib/python3.7/dist-packages (from earthengine-api>=0.1.304->geemap) (0.17.4)\n",
            "Requirement already satisfied: google-auth-httplib2>=0.0.3 in /usr/local/lib/python3.7/dist-packages (from earthengine-api>=0.1.304->geemap) (0.0.4)\n",
            "Requirement already satisfied: google-cloud-storage in /usr/local/lib/python3.7/dist-packages (from earthengine-api>=0.1.304->geemap) (1.18.1)\n",
            "Requirement already satisfied: google-auth>=1.4.1 in /usr/local/lib/python3.7/dist-packages (from earthengine-api>=0.1.304->geemap) (1.35.0)\n",
            "Requirement already satisfied: httplib2shim in /usr/local/lib/python3.7/dist-packages (from earthengine-api>=0.1.304->geemap) (0.0.3)\n",
            "Requirement already satisfied: google-api-python-client<2,>=1.12.1 in /usr/local/lib/python3.7/dist-packages (from earthengine-api>=0.1.304->geemap) (1.12.11)\n",
            "Requirement already satisfied: requests in /usr/local/lib/python3.7/dist-packages (from folium>=0.11.0->geemap) (2.23.0)\n",
            "Requirement already satisfied: branca>=0.3.0 in /usr/local/lib/python3.7/dist-packages (from folium>=0.11.0->geemap) (0.5.0)\n",
            "Requirement already satisfied: jinja2>=2.9 in /usr/local/lib/python3.7/dist-packages (from folium>=0.11.0->geemap) (2.11.3)\n",
            "Collecting logzero>=1.5.0\n",
            "  Using cached logzero-1.7.0-py2.py3-none-any.whl (16 kB)\n",
            "Collecting beautifulsoup4>=4.9.0\n",
            "  Using cached beautifulsoup4-4.11.1-py3-none-any.whl (128 kB)\n",
            "Requirement already satisfied: soupsieve>1.2 in /usr/local/lib/python3.7/dist-packages (from beautifulsoup4>=4.9.0->geeadd>=0.5.1->geemap) (2.3.2.post1)\n",
            "Requirement already satisfied: google-api-core<3dev,>=1.21.0 in /usr/local/lib/python3.7/dist-packages (from google-api-python-client<2,>=1.12.1->earthengine-api>=0.1.304->geemap) (1.31.5)\n",
            "Requirement already satisfied: uritemplate<4dev,>=3.0.0 in /usr/local/lib/python3.7/dist-packages (from google-api-python-client<2,>=1.12.1->earthengine-api>=0.1.304->geemap) (3.0.1)\n",
            "Requirement already satisfied: protobuf>=3.12.0 in /usr/local/lib/python3.7/dist-packages (from google-api-core<3dev,>=1.21.0->google-api-python-client<2,>=1.12.1->earthengine-api>=0.1.304->geemap) (3.17.3)\n",
            "Requirement already satisfied: pytz in /usr/local/lib/python3.7/dist-packages (from google-api-core<3dev,>=1.21.0->google-api-python-client<2,>=1.12.1->earthengine-api>=0.1.304->geemap) (2022.1)\n",
            "Requirement already satisfied: googleapis-common-protos<2.0dev,>=1.6.0 in /usr/local/lib/python3.7/dist-packages (from google-api-core<3dev,>=1.21.0->google-api-python-client<2,>=1.12.1->earthengine-api>=0.1.304->geemap) (1.56.1)\n",
            "Requirement already satisfied: setuptools>=40.3.0 in /usr/local/lib/python3.7/dist-packages (from google-api-core<3dev,>=1.21.0->google-api-python-client<2,>=1.12.1->earthengine-api>=0.1.304->geemap) (57.4.0)\n",
            "Requirement already satisfied: packaging>=14.3 in /usr/local/lib/python3.7/dist-packages (from google-api-core<3dev,>=1.21.0->google-api-python-client<2,>=1.12.1->earthengine-api>=0.1.304->geemap) (21.3)\n",
            "Requirement already satisfied: pyasn1-modules>=0.2.1 in /usr/local/lib/python3.7/dist-packages (from google-auth>=1.4.1->earthengine-api>=0.1.304->geemap) (0.2.8)\n",
            "Requirement already satisfied: rsa<5,>=3.1.4 in /usr/local/lib/python3.7/dist-packages (from google-auth>=1.4.1->earthengine-api>=0.1.304->geemap) (4.8)\n",
            "Requirement already satisfied: cachetools<5.0,>=2.0.0 in /usr/local/lib/python3.7/dist-packages (from google-auth>=1.4.1->earthengine-api>=0.1.304->geemap) (4.2.4)\n",
            "Requirement already satisfied: ipywidgets in /usr/local/lib/python3.7/dist-packages (from ipyfilechooser>=0.6.0->geemap) (7.7.0)\n",
            "Collecting traittypes<3,>=0.2.1\n",
            "  Using cached traittypes-0.2.1-py2.py3-none-any.whl (8.6 kB)\n",
            "Requirement already satisfied: nbformat>=4.2.0 in /usr/local/lib/python3.7/dist-packages (from ipywidgets->ipyfilechooser>=0.6.0->geemap) (5.4.0)\n",
            "Requirement already satisfied: jupyterlab-widgets>=1.0.0 in /usr/local/lib/python3.7/dist-packages (from ipywidgets->ipyfilechooser>=0.6.0->geemap) (1.1.0)\n",
            "Requirement already satisfied: widgetsnbextension~=3.6.0 in /usr/local/lib/python3.7/dist-packages (from ipywidgets->ipyfilechooser>=0.6.0->geemap) (3.6.0)\n",
            "Requirement already satisfied: traitlets>=4.3.1 in /usr/local/lib/python3.7/dist-packages (from ipywidgets->ipyfilechooser>=0.6.0->geemap) (5.1.1)\n",
            "Requirement already satisfied: ipython-genutils~=0.2.0 in /usr/local/lib/python3.7/dist-packages (from ipywidgets->ipyfilechooser>=0.6.0->geemap) (0.2.0)\n",
            "Requirement already satisfied: ipykernel>=4.5.1 in /usr/local/lib/python3.7/dist-packages (from ipywidgets->ipyfilechooser>=0.6.0->geemap) (4.10.1)\n",
            "Requirement already satisfied: ipython>=4.0.0 in /usr/local/lib/python3.7/dist-packages (from ipywidgets->ipyfilechooser>=0.6.0->geemap) (5.5.0)\n",
            "Requirement already satisfied: jupyter-client in /usr/local/lib/python3.7/dist-packages (from ipykernel>=4.5.1->ipywidgets->ipyfilechooser>=0.6.0->geemap) (5.3.5)\n",
            "Requirement already satisfied: tornado>=4.0 in /usr/local/lib/python3.7/dist-packages (from ipykernel>=4.5.1->ipywidgets->ipyfilechooser>=0.6.0->geemap) (5.1.1)\n",
            "Requirement already satisfied: simplegeneric>0.8 in /usr/local/lib/python3.7/dist-packages (from ipython>=4.0.0->ipywidgets->ipyfilechooser>=0.6.0->geemap) (0.8.1)\n",
            "Requirement already satisfied: pexpect in /usr/local/lib/python3.7/dist-packages (from ipython>=4.0.0->ipywidgets->ipyfilechooser>=0.6.0->geemap) (4.8.0)\n",
            "Requirement already satisfied: decorator in /usr/local/lib/python3.7/dist-packages (from ipython>=4.0.0->ipywidgets->ipyfilechooser>=0.6.0->geemap) (4.4.2)\n",
            "Requirement already satisfied: pygments in /usr/local/lib/python3.7/dist-packages (from ipython>=4.0.0->ipywidgets->ipyfilechooser>=0.6.0->geemap) (2.6.1)\n",
            "Requirement already satisfied: prompt-toolkit<2.0.0,>=1.0.4 in /usr/local/lib/python3.7/dist-packages (from ipython>=4.0.0->ipywidgets->ipyfilechooser>=0.6.0->geemap) (1.0.18)\n",
            "Requirement already satisfied: pickleshare in /usr/local/lib/python3.7/dist-packages (from ipython>=4.0.0->ipywidgets->ipyfilechooser>=0.6.0->geemap) (0.7.5)\n",
            "Requirement already satisfied: MarkupSafe>=0.23 in /usr/local/lib/python3.7/dist-packages (from jinja2>=2.9->folium>=0.11.0->geemap) (2.0.1)\n",
            "Requirement already satisfied: jupyter-core in /usr/local/lib/python3.7/dist-packages (from jupyterlab>=3->geemap) (4.10.0)\n",
            "Collecting jupyterlab-server~=2.10\n",
            "  Using cached jupyterlab_server-2.14.0-py3-none-any.whl (54 kB)\n",
            "Collecting nbclassic~=0.2\n",
            "  Using cached nbclassic-0.3.7-py3-none-any.whl (13 kB)\n",
            "Collecting jupyter-server~=1.16\n",
            "  Using cached jupyter_server-1.17.0-py3-none-any.whl (342 kB)\n",
            "Collecting tornado>=4.0\n",
            "  Using cached tornado-6.1-cp37-cp37m-manylinux2010_x86_64.whl (428 kB)\n",
            "Collecting jupyter-client\n",
            "  Using cached jupyter_client-7.3.1-py3-none-any.whl (130 kB)\n",
            "Requirement already satisfied: prometheus-client in /usr/local/lib/python3.7/dist-packages (from jupyter-server~=1.16->jupyterlab>=3->geemap) (0.14.1)\n",
            "Requirement already satisfied: terminado>=0.8.3 in /usr/local/lib/python3.7/dist-packages (from jupyter-server~=1.16->jupyterlab>=3->geemap) (0.13.3)\n",
            "Requirement already satisfied: argon2-cffi in /usr/local/lib/python3.7/dist-packages (from jupyter-server~=1.16->jupyterlab>=3->geemap) (21.3.0)\n",
            "Collecting anyio<4,>=3.1.0\n",
            "  Using cached anyio-3.6.1-py3-none-any.whl (80 kB)\n",
            "Requirement already satisfied: pyzmq>=17 in /usr/local/lib/python3.7/dist-packages (from jupyter-server~=1.16->jupyterlab>=3->geemap) (23.0.0)\n",
            "Requirement already satisfied: Send2Trash in /usr/local/lib/python3.7/dist-packages (from jupyter-server~=1.16->jupyterlab>=3->geemap) (1.8.0)\n",
            "Collecting nbconvert>=6.4.4\n",
            "  Using cached nbconvert-6.5.0-py3-none-any.whl (561 kB)\n",
            "Collecting websocket-client\n",
            "  Using cached websocket_client-1.3.2-py3-none-any.whl (54 kB)\n",
            "Requirement already satisfied: idna>=2.8 in /usr/local/lib/python3.7/dist-packages (from anyio<4,>=3.1.0->jupyter-server~=1.16->jupyterlab>=3->geemap) (2.10)\n",
            "Requirement already satisfied: typing-extensions in /usr/local/lib/python3.7/dist-packages (from anyio<4,>=3.1.0->jupyter-server~=1.16->jupyterlab>=3->geemap) (4.2.0)\n",
            "Collecting sniffio>=1.1\n",
            "  Using cached sniffio-1.2.0-py3-none-any.whl (10 kB)\n",
            "Requirement already satisfied: nest-asyncio>=1.5.4 in /usr/local/lib/python3.7/dist-packages (from jupyter-client->ipykernel>=4.5.1->ipywidgets->ipyfilechooser>=0.6.0->geemap) (1.5.5)\n",
            "Requirement already satisfied: entrypoints in /usr/local/lib/python3.7/dist-packages (from jupyter-client->ipykernel>=4.5.1->ipywidgets->ipyfilechooser>=0.6.0->geemap) (0.4)\n",
            "Requirement already satisfied: python-dateutil>=2.8.2 in /usr/local/lib/python3.7/dist-packages (from jupyter-client->ipykernel>=4.5.1->ipywidgets->ipyfilechooser>=0.6.0->geemap) (2.8.2)\n",
            "Requirement already satisfied: importlib-metadata>=3.6 in /usr/local/lib/python3.7/dist-packages (from jupyterlab-server~=2.10->jupyterlab>=3->geemap) (4.11.3)\n",
            "Collecting jinja2>=2.9\n",
            "  Using cached Jinja2-3.1.2-py3-none-any.whl (133 kB)\n",
            "Requirement already satisfied: babel in /usr/local/lib/python3.7/dist-packages (from jupyterlab-server~=2.10->jupyterlab>=3->geemap) (2.10.1)\n",
            "Requirement already satisfied: jsonschema>=3.0.1 in /usr/local/lib/python3.7/dist-packages (from jupyterlab-server~=2.10->jupyterlab>=3->geemap) (4.3.3)\n",
            "Collecting json5\n",
            "  Using cached json5-0.9.8-py2.py3-none-any.whl\n",
            "Requirement already satisfied: zipp>=0.5 in /usr/local/lib/python3.7/dist-packages (from importlib-metadata>=3.6->jupyterlab-server~=2.10->jupyterlab>=3->geemap) (3.8.0)\n",
            "Requirement already satisfied: attrs>=17.4.0 in /usr/local/lib/python3.7/dist-packages (from jsonschema>=3.0.1->jupyterlab-server~=2.10->jupyterlab>=3->geemap) (21.4.0)\n",
            "Requirement already satisfied: importlib-resources>=1.4.0 in /usr/local/lib/python3.7/dist-packages (from jsonschema>=3.0.1->jupyterlab-server~=2.10->jupyterlab>=3->geemap) (5.7.1)\n",
            "Requirement already satisfied: pyrsistent!=0.17.0,!=0.17.1,!=0.17.2,>=0.14.0 in /usr/local/lib/python3.7/dist-packages (from jsonschema>=3.0.1->jupyterlab-server~=2.10->jupyterlab>=3->geemap) (0.18.1)\n",
            "Requirement already satisfied: networkx in /usr/local/lib/python3.7/dist-packages (from mapclassify>=2.4.0->geemap) (2.6.3)\n",
            "Requirement already satisfied: scikit-learn in /usr/local/lib/python3.7/dist-packages (from mapclassify>=2.4.0->geemap) (1.0.2)\n",
            "Requirement already satisfied: scipy>=1.0 in /usr/local/lib/python3.7/dist-packages (from mapclassify>=2.4.0->geemap) (1.4.1)\n",
            "Collecting notebook-shim>=0.1.0\n",
            "  Using cached notebook_shim-0.1.0-py3-none-any.whl (13 kB)\n",
            "Requirement already satisfied: notebook<7 in /usr/local/lib/python3.7/dist-packages (from nbclassic~=0.2->jupyterlab>=3->geemap) (5.3.1)\n",
            "Requirement already satisfied: nbclient>=0.5.0 in /usr/local/lib/python3.7/dist-packages (from nbconvert>=6.4.4->jupyter-server~=1.16->jupyterlab>=3->geemap) (0.6.3)\n",
            "Requirement already satisfied: jupyterlab-pygments in /usr/local/lib/python3.7/dist-packages (from nbconvert>=6.4.4->jupyter-server~=1.16->jupyterlab>=3->geemap) (0.2.2)\n",
            "Requirement already satisfied: bleach in /usr/local/lib/python3.7/dist-packages (from nbconvert>=6.4.4->jupyter-server~=1.16->jupyterlab>=3->geemap) (5.0.0)\n",
            "Requirement already satisfied: mistune<2,>=0.8.1 in /usr/local/lib/python3.7/dist-packages (from nbconvert>=6.4.4->jupyter-server~=1.16->jupyterlab>=3->geemap) (0.8.4)\n",
            "Requirement already satisfied: pandocfilters>=1.4.1 in /usr/local/lib/python3.7/dist-packages (from nbconvert>=6.4.4->jupyter-server~=1.16->jupyterlab>=3->geemap) (1.5.0)\n",
            "Requirement already satisfied: defusedxml in /usr/local/lib/python3.7/dist-packages (from nbconvert>=6.4.4->jupyter-server~=1.16->jupyterlab>=3->geemap) (0.7.1)\n",
            "Requirement already satisfied: tinycss2 in /usr/local/lib/python3.7/dist-packages (from nbconvert>=6.4.4->jupyter-server~=1.16->jupyterlab>=3->geemap) (1.1.1)\n",
            "Requirement already satisfied: fastjsonschema in /usr/local/lib/python3.7/dist-packages (from nbformat>=4.2.0->ipywidgets->ipyfilechooser>=0.6.0->geemap) (2.15.3)\n",
            "Requirement already satisfied: pyparsing!=3.0.5,>=2.0.2 in /usr/local/lib/python3.7/dist-packages (from packaging>=14.3->google-api-core<3dev,>=1.21.0->google-api-python-client<2,>=1.12.1->earthengine-api>=0.1.304->geemap) (3.0.9)\n",
            "Requirement already satisfied: wcwidth in /usr/local/lib/python3.7/dist-packages (from prompt-toolkit<2.0.0,>=1.0.4->ipython>=4.0.0->ipywidgets->ipyfilechooser>=0.6.0->geemap) (0.2.5)\n",
            "Requirement already satisfied: pyasn1<0.5.0,>=0.4.6 in /usr/local/lib/python3.7/dist-packages (from pyasn1-modules>=0.2.1->google-auth>=1.4.1->earthengine-api>=0.1.304->geemap) (0.4.8)\n",
            "Requirement already satisfied: urllib3!=1.25.0,!=1.25.1,<1.26,>=1.21.1 in /usr/local/lib/python3.7/dist-packages (from requests->folium>=0.11.0->geemap) (1.24.3)\n",
            "Requirement already satisfied: certifi>=2017.4.17 in /usr/local/lib/python3.7/dist-packages (from requests->folium>=0.11.0->geemap) (2022.5.18.1)\n",
            "Requirement already satisfied: chardet<4,>=3.0.2 in /usr/local/lib/python3.7/dist-packages (from requests->folium>=0.11.0->geemap) (3.0.4)\n",
            "Requirement already satisfied: ptyprocess in /usr/local/lib/python3.7/dist-packages (from terminado>=0.8.3->jupyter-server~=1.16->jupyterlab>=3->geemap) (0.7.0)\n",
            "Collecting whitebox\n",
            "  Using cached whitebox-2.1.2-py2.py3-none-any.whl (75 kB)\n",
            "Requirement already satisfied: argon2-cffi-bindings in /usr/local/lib/python3.7/dist-packages (from argon2-cffi->jupyter-server~=1.16->jupyterlab>=3->geemap) (21.2.0)\n",
            "Requirement already satisfied: cffi>=1.0.1 in /usr/local/lib/python3.7/dist-packages (from argon2-cffi-bindings->argon2-cffi->jupyter-server~=1.16->jupyterlab>=3->geemap) (1.15.0)\n",
            "Requirement already satisfied: pycparser in /usr/local/lib/python3.7/dist-packages (from cffi>=1.0.1->argon2-cffi-bindings->argon2-cffi->jupyter-server~=1.16->jupyterlab>=3->geemap) (2.21)\n",
            "Requirement already satisfied: webencodings in /usr/local/lib/python3.7/dist-packages (from bleach->nbconvert>=6.4.4->jupyter-server~=1.16->jupyterlab>=3->geemap) (0.5.1)\n",
            "Requirement already satisfied: filelock in /usr/local/lib/python3.7/dist-packages (from gdown->geemap) (3.7.0)\n",
            "Requirement already satisfied: tqdm in /usr/local/lib/python3.7/dist-packages (from gdown->geemap) (4.64.0)\n",
            "Collecting ratelim\n",
            "  Using cached ratelim-0.1.6-py2.py3-none-any.whl (4.0 kB)\n",
            "Requirement already satisfied: click in /usr/local/lib/python3.7/dist-packages (from geocoder->geemap) (7.1.2)\n",
            "Requirement already satisfied: google-resumable-media<0.5.0dev,>=0.3.1 in /usr/local/lib/python3.7/dist-packages (from google-cloud-storage->earthengine-api>=0.1.304->geemap) (0.4.1)\n",
            "Requirement already satisfied: google-cloud-core<2.0dev,>=1.0.0 in /usr/local/lib/python3.7/dist-packages (from google-cloud-storage->earthengine-api>=0.1.304->geemap) (1.0.3)\n",
            "Requirement already satisfied: cycler>=0.10 in /usr/local/lib/python3.7/dist-packages (from matplotlib->geemap) (0.11.0)\n",
            "Requirement already satisfied: kiwisolver>=1.0.1 in /usr/local/lib/python3.7/dist-packages (from matplotlib->geemap) (1.4.2)\n",
            "Requirement already satisfied: PySocks!=1.5.7,>=1.5.6 in /usr/local/lib/python3.7/dist-packages (from requests->folium>=0.11.0->geemap) (1.7.1)\n",
            "Requirement already satisfied: plotly>=5.2.2 in /usr/local/lib/python3.7/dist-packages (from sankee->geemap) (5.5.0)\n",
            "Requirement already satisfied: tenacity>=6.2.0 in /usr/local/lib/python3.7/dist-packages (from plotly>=5.2.2->sankee->geemap) (8.0.1)\n",
            "Requirement already satisfied: threadpoolctl>=2.0.0 in /usr/local/lib/python3.7/dist-packages (from scikit-learn->mapclassify>=2.4.0->geemap) (3.1.0)\n",
            "Requirement already satisfied: joblib>=0.11 in /usr/local/lib/python3.7/dist-packages (from scikit-learn->mapclassify>=2.4.0->geemap) (1.1.0)\n",
            "Building wheels for collected packages: sankee\n",
            "  Building wheel for sankee (setup.py) ... \u001b[?25l\u001b[?25hdone\n",
            "  Created wheel for sankee: filename=sankee-0.0.7-py3-none-any.whl size=27639 sha256=29e81bdfe0e4756b47ffdceb3699b778d77ea8f2e116914909fc8953e3068592\n",
            "  Stored in directory: /root/.cache/pip/wheels/13/28/83/5726f82a8cb0baf76169d99ee0595c420afedb9020e22bbd4b\n",
            "Successfully built sankee\n",
            "Installing collected packages: tornado, jupyter-client, jinja2, beautifulsoup4, sniffio, nbconvert, websocket-client, anyio, jupyter-server, notebook-shim, json5, xyzservices, whitebox, traittypes, ratelim, nbclassic, logzero, jupyterlab-server, ipytree, ipyfilechooser, whiteboxgui, sankee, python-box, pyshp, pycrs, mapclassify, jupyterlab, ipyleaflet, ipyevents, geojson, geocoder, geeadd, folium, ffmpeg-python, ee-extra, colour, bqplot, geemap\n",
            "  Attempting uninstall: tornado\n",
            "    Found existing installation: tornado 5.1.1\n",
            "    Uninstalling tornado-5.1.1:\n",
            "      Successfully uninstalled tornado-5.1.1\n",
            "  Attempting uninstall: jupyter-client\n",
            "    Found existing installation: jupyter-client 5.3.5\n",
            "    Uninstalling jupyter-client-5.3.5:\n",
            "      Successfully uninstalled jupyter-client-5.3.5\n",
            "  Attempting uninstall: jinja2\n",
            "    Found existing installation: Jinja2 2.11.3\n",
            "    Uninstalling Jinja2-2.11.3:\n",
            "      Successfully uninstalled Jinja2-2.11.3\n",
            "  Attempting uninstall: beautifulsoup4\n",
            "    Found existing installation: beautifulsoup4 4.6.3\n",
            "    Uninstalling beautifulsoup4-4.6.3:\n",
            "      Successfully uninstalled beautifulsoup4-4.6.3\n",
            "  Attempting uninstall: nbconvert\n",
            "    Found existing installation: nbconvert 5.6.1\n",
            "    Uninstalling nbconvert-5.6.1:\n",
            "      Successfully uninstalled nbconvert-5.6.1\n",
            "  Attempting uninstall: folium\n",
            "    Found existing installation: folium 0.8.3\n",
            "    Uninstalling folium-0.8.3:\n",
            "      Successfully uninstalled folium-0.8.3\n",
            "\u001b[31mERROR: pip's dependency resolver does not currently take into account all the packages that are installed. This behaviour is the source of the following dependency conflicts.\n",
            "google-colab 1.0.0 requires tornado~=5.1.0; python_version >= \"3.0\", but you have tornado 6.1 which is incompatible.\n",
            "flask 1.1.4 requires Jinja2<3.0,>=2.10.1, but you have jinja2 3.1.2 which is incompatible.\n",
            "datascience 0.10.6 requires folium==0.2.1, but you have folium 0.12.1.post1 which is incompatible.\u001b[0m\n",
            "Successfully installed anyio-3.6.1 beautifulsoup4-4.11.1 bqplot-0.12.33 colour-0.1.5 ee-extra-0.0.13 ffmpeg-python-0.2.0 folium-0.12.1.post1 geeadd-0.5.5 geemap-0.13.7 geocoder-1.38.1 geojson-2.5.0 ipyevents-2.0.1 ipyfilechooser-0.6.0 ipyleaflet-0.16.0 ipytree-0.2.1 jinja2-3.1.2 json5-0.9.8 jupyter-client-7.3.1 jupyter-server-1.17.0 jupyterlab-3.4.2 jupyterlab-server-2.14.0 logzero-1.7.0 mapclassify-2.4.3 nbclassic-0.3.7 nbconvert-6.5.0 notebook-shim-0.1.0 pycrs-1.0.2 pyshp-2.3.0 python-box-6.0.2 ratelim-0.1.6 sankee-0.0.7 sniffio-1.2.0 tornado-6.1 traittypes-0.2.1 websocket-client-1.3.2 whitebox-2.1.2 whiteboxgui-0.7.0 xyzservices-2022.4.0\n"
          ]
        },
        {
          "output_type": "display_data",
          "data": {
            "application/vnd.colab-display-data+json": {
              "pip_warning": {
                "packages": [
                  "jupyter_client",
                  "tornado"
                ]
              }
            }
          },
          "metadata": {}
        }
      ],
      "source": [
        "!pip install geemap"
      ]
    },
    {
      "cell_type": "code",
      "source": [
        "# Installs geemap package\n",
        "import google.colab\n",
        "\n",
        "import geemap\n",
        "\n",
        "# Authenticates and initializes Earth Engine\n",
        "import ee\n",
        "\n",
        "ee.Authenticate()\n",
        "ee.Initialize()  "
      ],
      "metadata": {
        "id": "4g6vzGZh7SVT",
        "colab": {
          "base_uri": "https://localhost:8080/",
          "height": 176
        },
        "outputId": "4a064d53-86d7-46af-9262-54668d98e2b4"
      },
      "execution_count": 2,
      "outputs": [
        {
          "output_type": "stream",
          "name": "stdout",
          "text": [
            "To authorize access needed by Earth Engine, open the following URL in a web browser and follow the instructions. If the web browser does not start automatically, please manually browse the URL below.\n",
            "\n",
            "    https://code.earthengine.google.com/client-auth?scopes=https%3A//www.googleapis.com/auth/earthengine%20https%3A//www.googleapis.com/auth/devstorage.full_control&request_id=OiOMViszMEdD04ytGkniFuzV1tmNCu6Q-tHhD0JSNkQ&tc=DpLxJec7jxGytEEXDGGcnyoO_MWqpxokiznL-s6eM1U&cc=RCFDleBa3sXiGCAaP4jNtDFmbCVOds9wehTDnIEGlkM\n",
            "\n",
            "The authorization workflow will generate a code, which you should paste in the box below. \n",
            "Enter verification code: 4/1AX4XfWgUhdoL6oXHj7_FlifgwDusT7IHEz3opJVseMtJsks58a7epdfjvEM\n",
            "\n",
            "Successfully saved authorization token.\n"
          ]
        }
      ]
    },
    {
      "cell_type": "markdown",
      "source": [
        "---"
      ],
      "metadata": {
        "id": "Gi0X_N_67bvb"
      }
    },
    {
      "cell_type": "markdown",
      "source": [
        "## Görüntü Maskeleme"
      ],
      "metadata": {
        "id": "TcLJJg267xCs"
      }
    },
    {
      "cell_type": "code",
      "source": [
        "Ankara = ee.FeatureCollection(\"users/mkuludag93/Sinirlar/Ankara_Sinir\");\n",
        "Ankara_Parsel = ee.FeatureCollection(\"users/mkuludag93/Ankara_parseller_tamami\");\n",
        "\n",
        "roi = Ankara.geometry()\n",
        "\n",
        "# Bulut Maskesi\n",
        "def se2mask(image):\n",
        "    qa = image.select('QA60')\n",
        "\n",
        "    mask = qa.bitwiseAnd(1<<10).Or(qa.bitwiseAnd(1<<11))\n",
        "\n",
        "    return image.updateMask(mask.Not())"
      ],
      "metadata": {
        "id": "ULU9TA347T4y"
      },
      "execution_count": 19,
      "outputs": []
    },
    {
      "cell_type": "code",
      "source": [
        "# Gece Görüntüsü ile Kent alanları maskesi\n",
        "\n",
        "nightset = ee.ImageCollection(\"NOAA/VIIRS/DNB/MONTHLY_V1/VCMSLCFG\").filterDate(\"2021-01-01\",\"2021-11-28\")\n",
        "\n",
        "\n",
        "nightsetmed = nightset.median().clip(Ankara) \n",
        "avg_rad = nightsetmed.select('avg_rad')\n",
        "\n",
        "def nightmask(img):\n",
        "  nightexc = avg_rad.gte(7)\n",
        "  img = img.updateMask(nightexc.unmask().Not())\n",
        "\n",
        "  return(img);   "
      ],
      "metadata": {
        "id": "2KNdtwfJ7VoK"
      },
      "execution_count": 20,
      "outputs": []
    },
    {
      "cell_type": "code",
      "source": [
        "# Su kütlesi için maskeleme\n",
        "\n",
        "gsw = ee.Image('JRC/GSW1_0/GlobalSurfaceWater')\n",
        "occurrence = gsw.select('occurrence')\n",
        "\n",
        "def watermask(img):\n",
        "  excludewater = occurrence.gte(5); \n",
        "  img = img.updateMask(excludewater.unmask().Not())\n",
        "  return(img)"
      ],
      "metadata": {
        "id": "qX1KIzR3uYa6"
      },
      "execution_count": 21,
      "outputs": []
    },
    {
      "cell_type": "markdown",
      "source": [
        "---"
      ],
      "metadata": {
        "id": "6H9tjVL17aSL"
      }
    },
    {
      "cell_type": "markdown",
      "source": [
        "## Görüntüleri Ekleme ve Composite"
      ],
      "metadata": {
        "id": "6m7sIZwi1ixf"
      }
    },
    {
      "cell_type": "markdown",
      "source": [
        "### Sentinel 2"
      ],
      "metadata": {
        "id": "3hUkMFY414Np"
      }
    },
    {
      "cell_type": "code",
      "source": [
        "# Çalışma alanımızı ve Yükseklik verisini tanımlayalım\n",
        "s2bands = ['B4','B3','B2']\n",
        "rgbViz = {\"min\":0.0, \"max\":3000,\"bands\":s2bands}\n",
        "\n",
        "def sentinel2goruntu(tarih1, tarih2):\n",
        "    se = ee.ImageCollection('COPERNICUS/S2').filterDate(\n",
        "    tarih1,tarih2).filterBounds(Ankara).filter(\n",
        "    ee.Filter.lt(\"CLOUDY_PIXEL_PERCENTAGE\",20)).map(se2mask).map(nightmask).map(watermask).median()\n",
        "\n",
        "    se_parsel = se.select(s2bands).clip(Ankara_Parsel)\n",
        " \n",
        "    ndvi = se.normalizedDifference(['B8', 'B4']).rename([f'ndvi_{tarih1}']);\n",
        "    ndbi = se.normalizedDifference(['B11', 'B8']).rename([f'ndbi_{tarih1}']);\n",
        "\n",
        "    return se_parsel.addBands(ndvi).addBands(ndbi)\n",
        "\n",
        "\n",
        "se1 = sentinel2goruntu(\"2021-05-15\", \"2021-05-29\")\n",
        "se2 = sentinel2goruntu(\"2021-06-15\", \"2021-06-29\")\n",
        "se3 = sentinel2goruntu(\"2021-07-15\", \"2021-07-29\")\n",
        "se4 = sentinel2goruntu(\"2021-08-15\", \"2021-08-29\")\n",
        "\n",
        "fusedse2 = se1.addBands(se2).addBands(se3).addBands(se4)\n",
        "\n",
        "\n",
        "\n",
        "\n"
      ],
      "metadata": {
        "id": "vM007FlU7XUC"
      },
      "execution_count": 25,
      "outputs": []
    },
    {
      "cell_type": "markdown",
      "source": [
        "### Sentinel 1"
      ],
      "metadata": {
        "id": "uGu3deh216t4"
      }
    },
    {
      "cell_type": "code",
      "source": [
        "\n",
        "\n",
        "\n",
        "def sentinel1goruntu(tarih1, tarih2):\n",
        "  se = ee.ImageCollection('COPERNICUS/S1_GRD').filter(ee.Filter.date(tarih1, tarih2))\\\n",
        "  .filterBounds(roi)\\\n",
        "  .filter(ee.Filter.listContains('transmitterReceiverPolarisation', 'VV'))\\\n",
        "  .filter(ee.Filter.listContains('transmitterReceiverPolarisation', 'VH'))\\\n",
        "  .filter(ee.Filter.eq('instrumentMode', 'IW'))\\\n",
        "\n",
        "  desc = se.filter(ee.Filter.eq('orbitProperties_pass', 'DESCENDING'));\n",
        "  asc = se.filter(ee.Filter.eq('orbitProperties_pass', 'ASCENDING'));\n",
        "\n",
        "  composites1 = ee.Image.cat([\n",
        "    asc.select('VH').mean(),\n",
        "    asc.select('VV').mean(),\n",
        "    desc.select('VH').mean()\n",
        "  ]).focal_median();\n",
        "\n",
        "  composite_1 = composites1.clip(Ankara)\n",
        "  composite_1= nightmask(composite_1)\n",
        "  composite_1 =watermask(composite_1)\n",
        "  composite_1= composite_1.clip(Ankara_Parsel)\n",
        "\n",
        "  return composite_1\n",
        "\n",
        "\n",
        "se1_1= sentinel1goruntu(\"2021-05-15\", \"2021-05-29\")\n",
        "se1_2= sentinel1goruntu(\"2021-06-15\", \"2021-06-29\")\n",
        "se1_3= sentinel1goruntu(\"2021-07-15\", \"2021-07-29\")\n",
        "se1_4= sentinel1goruntu(\"2021-08-15\", \"2021-08-29\")\n",
        "\n",
        "fusedse1 = se1_1.addBands(se1_2).addBands(se1_3).addBands(se1_4)\n",
        "\n",
        "finalfuse = fusedse2.addBands(fusedse1)\n",
        "\n",
        "# Sentinel 1 ve 2 nin composite edilmesi\n",
        "print(finalfuse.bandNames().getInfo())"
      ],
      "metadata": {
        "colab": {
          "base_uri": "https://localhost:8080/"
        },
        "id": "7zmlDNGNvPIh",
        "outputId": "cfd34bcc-8bb0-4b42-8aa6-9a80eafeca2c"
      },
      "execution_count": 26,
      "outputs": [
        {
          "output_type": "stream",
          "name": "stdout",
          "text": [
            "['B4', 'B3', 'B2', 'ndvi_2021-05-15', 'ndbi_2021-05-15', 'B4_1', 'B3_1', 'B2_1', 'ndvi_2021-06-15', 'ndbi_2021-06-15', 'B4_2', 'B3_2', 'B2_2', 'ndvi_2021-07-15', 'ndbi_2021-07-15', 'B4_3', 'B3_3', 'B2_3', 'ndvi_2021-08-15', 'ndbi_2021-08-15', 'VH', 'VV', 'VH_1', 'VH_2', 'VV_1', 'VH_1_1', 'VH_3', 'VV_2', 'VH_1_2', 'VH_4', 'VV_3', 'VH_1_3']\n"
          ]
        }
      ]
    },
    {
      "cell_type": "markdown",
      "source": [
        "---"
      ],
      "metadata": {
        "id": "6W2Ee-stRmSH"
      }
    },
    {
      "cell_type": "markdown",
      "source": [
        " ##  Sınıflama"
      ],
      "metadata": {
        "id": "X2dQY3ULRsxH"
      }
    },
    {
      "cell_type": "code",
      "source": [
        "# Sınıflar\n",
        "bugday = ee.FeatureCollection(\"users/mkuludag93/Tarim_Parselleri/Ankara_Bugday_Training\")\n",
        "misir = ee.FeatureCollection(\"users/mkuludag93/Tarim_Parselleri/Ankara_Misir_Training\")\n",
        "aycicegi = ee.FeatureCollection(\"users/mkuludag93/Tarim_Parselleri/Ankara_Aycicegi_Training\")\n",
        "\n",
        "# Train setimizi kombinledik\n",
        "\n",
        "trainingfc = bugday. merge(aycicegi) .merge(misir);\n",
        "label = 'landcover';\n",
        "\n",
        "\n",
        "trainingGcp = trainingfc\n",
        "\n",
        "\n",
        "\n",
        "# Noktaları SampleRegionladık (Böylece örnek noktaların bulunduğu pixellerin orta noktalarını alarak her bir banddan gelen verileri elde ettik).\n",
        "training = finalfuse.sampleRegions(**{\n",
        "  \"collection\": trainingGcp,\n",
        "  \"properties\": ['landcover'],\n",
        "  \"scale\": 10,\n",
        "  \"tileScale\": 16\n",
        "});\n",
        "\n",
        "\n",
        "# Eğitim Vakti!!\n",
        "classifier = ee.Classifier.smileRandomForest(50).train(**{\n",
        "  \"features\": training,  \n",
        "  \"classProperty\": 'landcover',\n",
        "  \"inputProperties\": finalfuse.bandNames()\n",
        "});\n",
        "\n",
        "\n",
        "classified = finalfuse.classify(classifier).clip(Ankara_Parsel);\n",
        "\n",
        "\n",
        "\n",
        "\n",
        "palette = [ \n",
        "  'FAFA28', #(0)  Buğday           \n",
        "  '990000', #(1)  misir   \n",
        "  '7DB842', #(2)  Aycicegi \n",
        "];  \n",
        "\n",
        "legend_keys = ['Buğday', 'Misir', 'Ayçiçeği']\n",
        "# colorS can be defined using either hex code or RGB (0-255, 0-255, 0-255)\n",
        "legend_colors = ['FAFA28', '990000', '7DB842']\n",
        "# legend_colors = [(255, 0, 0), (127, 255, 0), (127, 18, 25), (36, 70, 180), (96, 68 123)]\n",
        "\n"
      ],
      "metadata": {
        "id": "CBWYDT3IRlZ_"
      },
      "execution_count": 43,
      "outputs": []
    },
    {
      "cell_type": "markdown",
      "source": [
        "### Görüntüyü Haritada Görüntüleme"
      ],
      "metadata": {
        "id": "dFhvcWaO2B64"
      }
    },
    {
      "cell_type": "code",
      "source": [
        "# Haritamıza sentinel 2'yi ekleyelim\n",
        "# Görütüleme parametrelerini tanımlayalım\n",
        "s2bands = ['B4','B3','B2']\n",
        "rgbViz = {\"min\":0.0, \"max\":3000,\"bands\":s2bands}\n",
        "\n",
        "\n",
        "map2 = geemap.Map()\n",
        "map2.add_basemap('HYBRID')\n",
        "map2.centerObject(Ankara, 7)\n",
        "\n",
        "map2.add_legend(\n",
        "    legend_keys=legend_keys, legend_colors=legend_colors, position='bottomright'\n",
        ")\n",
        "\n",
        "\n",
        "# map2.addLayer(fusedse1, {'min': [-20, -20, 0], 'max': [0, 0, 2]}, 'Sentinel 1');\n",
        "map2.addLayer(finalfuse, rgbViz, 'Sentinel Tümü Görüntüsü 2021');\n",
        "map2.addLayer(trainingGcp, {}, 'training', False)\n",
        "\n",
        "map2.addLayer(classified, {min: 0, max: 2, palette: palette}, '2021 Sınıflanmış Görüntü');\n",
        "\n",
        "map2.addLayerControl()\n",
        "map2\n"
      ],
      "metadata": {
        "id": "eiGGI4772BVB"
      },
      "execution_count": null,
      "outputs": []
    },
    {
      "cell_type": "markdown",
      "source": [
        "---"
      ],
      "metadata": {
        "id": "UfnB32CkTH5Y"
      }
    },
    {
      "cell_type": "markdown",
      "source": [
        "## Doğruluk Analizi"
      ],
      "metadata": {
        "id": "W3CC9n07TJU3"
      }
    },
    {
      "cell_type": "code",
      "source": [
        "# Train Accur\n",
        "train_accuracy = classifier.confusionMatrix()\n",
        "print('Train Accuracy', train_accuracy.accuracy().getInfo())\n",
        "train_accuracy.producersAccuracy().getInfo()\n",
        "train_accuracy.consumersAccuracy().getInfo()\n",
        "\n",
        "\n",
        "# Test Accur\n",
        "validated = validationGcp.classify(classifier)\n",
        "\n",
        "testConfusionMatrix = validated.errorMatrix('landcover', 'classification')\n",
        "\n",
        "print('Test Confusion Matrix', testConfusionMatrix);\n",
        "print('Test Accuracy', testConfusionMatrix.accuracy());\n",
        "print('Test Consumers Accuracy:', testConfusionMatrix.consumersAccuracy()); \n",
        "print('Test Producers Accuracy:', testConfusionMatrix.producersAccuracy()); \n"
      ],
      "metadata": {
        "id": "8fNQze3pvSOA"
      },
      "execution_count": null,
      "outputs": []
    },
    {
      "cell_type": "markdown",
      "source": [
        "---"
      ],
      "metadata": {
        "id": "jSyB_ahvvThI"
      }
    },
    {
      "cell_type": "markdown",
      "source": [
        "## Sonuçları Export Etme\n"
      ],
      "metadata": {
        "id": "bMIh-NPw1rHP"
      }
    },
    {
      "cell_type": "code",
      "source": [
        "# Exporting Asset\n",
        "\n",
        "task = ee.batch.Export.image.toAsset(**{\n",
        "  'image': se2_parsel,\n",
        "  'description': 'Ankara_Parseller',\n",
        "  'assetId': 'users/mkuludag93/Ankara_Parseller',\n",
        "  'scale': 20,\n",
        "  'region': Ankara.geometry()\n",
        "})\n",
        "task.start()"
      ],
      "metadata": {
        "id": "UwtCZH6wrsXi"
      },
      "execution_count": null,
      "outputs": []
    },
    {
      "cell_type": "code",
      "source": [
        ""
      ],
      "metadata": {
        "id": "zzh_zOd97XZV"
      },
      "execution_count": null,
      "outputs": []
    }
  ]
}